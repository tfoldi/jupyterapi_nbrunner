{
 "cells": [
  {
   "cell_type": "markdown",
   "id": "e08e662a",
   "metadata": {},
   "source": [
    "# This is a nice notebook test\n",
    "\n",
    "Not much will happen here, really this is a test only"
   ]
  },
  {
   "cell_type": "code",
   "execution_count": null,
   "id": "fd74070b",
   "metadata": {},
   "outputs": [],
   "source": [
    "# Simple addition function\n",
    "def add_numbers(a, b):\n",
    "    result = a + b\n",
    "    return result"
   ]
  },
  {
   "cell_type": "code",
   "execution_count": null,
   "id": "f75695df",
   "metadata": {},
   "outputs": [],
   "source": [
    "# Invoke the add_numbers function\n",
    "result = add_numbers(5, 10)\n",
    "print(\"Result:\", result)"
   ]
  },
  {
   "cell_type": "code",
   "execution_count": null,
   "id": "34e0ba7b",
   "metadata": {},
   "outputs": [],
   "source": [
    "result"
   ]
  }
 ],
 "metadata": {
  "kernelspec": {
   "display_name": "Python 3 (ipykernel)",
   "language": "python",
   "name": "python3"
  },
  "language_info": {
   "codemirror_mode": {
    "name": "ipython",
    "version": 3
   },
   "file_extension": ".py",
   "mimetype": "text/x-python",
   "name": "python",
   "nbconvert_exporter": "python",
   "pygments_lexer": "ipython3",
   "version": "3.11.4"
  }
 },
 "nbformat": 4,
 "nbformat_minor": 5
}
